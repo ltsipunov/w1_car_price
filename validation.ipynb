{
 "cells": [
  {
   "cell_type": "code",
   "execution_count": 1,
   "id": "849a89ad",
   "metadata": {},
   "outputs": [
    {
     "data": {
      "text/plain": [
       "1131"
      ]
     },
     "execution_count": 1,
     "metadata": {},
     "output_type": "execute_result"
    }
   ],
   "source": [
    "# from utils import X,y,cat_cols,fillna,normalize,skew,encode\n",
    "from task import *\n",
    "import gc\n",
    "gc.collect()"
   ]
  },
  {
   "cell_type": "code",
   "execution_count": 2,
   "id": "fe7e4fea",
   "metadata": {},
   "outputs": [],
   "source": [
    "def data():\n",
    "    split = 300_000\n",
    "    maxlines = 500_000\n",
    "    d2 = pd.read_csv('datasets/train.csv',skiprows= range(1,split) )\n",
    "    d1 = pd.read_csv('datasets/train.csv',skiprows= range(split,maxlines) )\n",
    "    return(d1,d2)  \n",
    "\n"
   ]
  },
  {
   "cell_type": "code",
   "execution_count": 3,
   "id": "8bab62dd",
   "metadata": {},
   "outputs": [],
   "source": [
    "class Validator(Task):\n",
    "\n",
    "    def __init__( self, data, params = {}):\n",
    "        super().__init__(data, params)\n",
    "        self.ds = ScoreSet( data[0],data[1] ,params=self.params)  \n",
    "\n",
    "    def process(self,ds = None ):\n",
    "        if ds==None:\n",
    "            ds = self.ds\n",
    "        ds.set_encoder( self.new_encoder() ).set_model(self.new_model() )\n",
    "        ds.prepare().fit().predict()\n",
    "        self.log +=(f\"{ds.log}\\t MAPE:{ds.scores()}\\n\")          \n",
    "\n",
    "    "
   ]
  },
  {
   "cell_type": "code",
   "execution_count": 4,
   "id": "85712c98",
   "metadata": {},
   "outputs": [
    {
     "name": "stdout",
     "output_type": "stream",
     "text": [
      "\t MAPE:0.29837769663723773\n",
      "\n"
     ]
    },
    {
     "data": {
      "text/plain": [
       "48"
      ]
     },
     "execution_count": 4,
     "metadata": {},
     "output_type": "execute_result"
    }
   ],
   "source": [
    "params = { \n",
    "            'rounding': { 'odometer':3000,'condition':1},\n",
    "            'model': {  'criterion':'poisson','n_estimators':20, 'max_depth':4 }    \n",
    "        }\n",
    "v = Validator( data() ,params=params)\n",
    "v.process()\n",
    "print(v.log)\n",
    "del v\n",
    "gc.collect()"
   ]
  },
  {
   "cell_type": "code",
   "execution_count": null,
   "id": "8c27b316",
   "metadata": {},
   "outputs": [],
   "source": []
  }
 ],
 "metadata": {
  "kernelspec": {
   "display_name": "Python 3 (ipykernel)",
   "language": "python",
   "name": "python3"
  },
  "language_info": {
   "codemirror_mode": {
    "name": "ipython",
    "version": 3
   },
   "file_extension": ".py",
   "mimetype": "text/x-python",
   "name": "python",
   "nbconvert_exporter": "python",
   "pygments_lexer": "ipython3",
   "version": "3.9.16"
  }
 },
 "nbformat": 4,
 "nbformat_minor": 5
}

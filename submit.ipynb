{
 "cells": [
  {
   "cell_type": "code",
   "execution_count": 1,
   "id": "849a89ad",
   "metadata": {},
   "outputs": [
    {
     "data": {
      "text/plain": [
       "1131"
      ]
     },
     "execution_count": 1,
     "metadata": {},
     "output_type": "execute_result"
    }
   ],
   "source": [
    "# from utils import X,y,cat_cols,fillna,normalize,skew,encode\n",
    "from task import *\n",
    "import gc\n",
    "gc.collect()"
   ]
  },
  {
   "cell_type": "code",
   "execution_count": 2,
   "id": "fe7e4fea",
   "metadata": {},
   "outputs": [],
   "source": [
    "def data():\n",
    "    tr = pd.read_csv('datasets/train.csv' )\n",
    "    te = pd.read_csv('datasets/test.csv' )\n",
    "    return( (tr,te) )  \n",
    "\n"
   ]
  },
  {
   "cell_type": "code",
   "execution_count": 3,
   "id": "8bab62dd",
   "metadata": {},
   "outputs": [],
   "source": [
    "class Submitter(Task):\n",
    "\n",
    "    def __init__(self, data, params = {}):\n",
    "        super().__init__( data, params)\n",
    "        self.ds = SubmissionSet( data[0],data[1] ,params=self.params)  \n",
    "\n",
    "    def process(self,ds = None ):\n",
    "        if ds==None:\n",
    "            ds = self.ds\n",
    "        ds.set_encoder( self.new_encoder() ).set_model(self.new_model() )\n",
    "        ds.prepare().fit().predict()    \n",
    "    "
   ]
  },
  {
   "cell_type": "code",
   "execution_count": 4,
   "id": "85712c98",
   "metadata": {
    "scrolled": true
   },
   "outputs": [
    {
     "name": "stdout",
     "output_type": "stream",
     "text": [
      "\n"
     ]
    },
    {
     "data": {
      "text/plain": [
       "48"
      ]
     },
     "execution_count": 4,
     "metadata": {},
     "output_type": "execute_result"
    }
   ],
   "source": [
    "params = { \n",
    "            'rounding': { 'odometer':3000,'condition':1},\n",
    "            'model': {  'criterion':'poisson','n_estimators':20, 'max_depth':4 }    \n",
    "        }\n",
    "d = data()\n",
    "v = Submitter( data() ,params=params)\n",
    "v.process()\n",
    "print(v.log)\n",
    "del v\n",
    "gc.collect()"
   ]
  },
  {
   "cell_type": "code",
   "execution_count": null,
   "id": "bfaee174",
   "metadata": {},
   "outputs": [],
   "source": []
  }
 ],
 "metadata": {
  "kernelspec": {
   "display_name": "Python 3 (ipykernel)",
   "language": "python",
   "name": "python3"
  },
  "language_info": {
   "codemirror_mode": {
    "name": "ipython",
    "version": 3
   },
   "file_extension": ".py",
   "mimetype": "text/x-python",
   "name": "python",
   "nbconvert_exporter": "python",
   "pygments_lexer": "ipython3",
   "version": "3.9.16"
  }
 },
 "nbformat": 4,
 "nbformat_minor": 5
}

{
 "cells": [
  {
   "cell_type": "code",
   "execution_count": 1,
   "id": "849a89ad",
   "metadata": {},
   "outputs": [],
   "source": [
    "import pandas as pd\n",
    "import re\n",
    "import timeit as ti\n",
    "import datetime as dt\n",
    "import numpy as np\n",
    "np.random.seed(4999)"
   ]
  },
  {
   "cell_type": "code",
   "execution_count": 2,
   "id": "8e30b391",
   "metadata": {},
   "outputs": [],
   "source": [
    "from sklearn.model_selection import train_test_split\n",
    "from sklearn.preprocessing import OrdinalEncoder\n",
    "from sklearn.ensemble import RandomForestRegressor\n",
    "from sklearn.tree import DecisionTreeRegressor\n",
    "from sklearn.metrics import mean_absolute_percentage_error as mape\n",
    "from sklearn.feature_selection import SelectFromModel"
   ]
  },
  {
   "cell_type": "code",
   "execution_count": 3,
   "id": "42db2134",
   "metadata": {},
   "outputs": [],
   "source": [
    "ds = pd.read_csv('datasets/train.csv')\n",
    "price_cols = ['sellingprice','pr','pe']\n",
    "make_cols = ['make','model','trim']\n",
    "wear_cols = ['prod_year','condition','odometer']"
   ]
  },
  {
   "cell_type": "code",
   "execution_count": 4,
   "id": "bb38dcaa",
   "metadata": {},
   "outputs": [
    {
     "name": "stdout",
     "output_type": "stream",
     "text": [
      "CPU times: total: 625 ms\n",
      "Wall time: 624 ms\n"
     ]
    }
   ],
   "source": [
    "%%time\n",
    "ds[['make','model','trim']] = ds[['make','model','trim']].fillna('UNKNOWN')\n",
    "ds[['color','interior']] = ds[['color','interior']].fillna('—')"
   ]
  },
  {
   "cell_type": "code",
   "execution_count": 5,
   "id": "e5c206f0",
   "metadata": {},
   "outputs": [
    {
     "name": "stdout",
     "output_type": "stream",
     "text": [
      "CPU times: total: 52.3 s\n",
      "Wall time: 54.9 s\n"
     ]
    }
   ],
   "source": [
    "%%time \n",
    "cols_to_upper= ['make','model','trim','body']\n",
    "cols_dt = ['year','month','day','hour','minute','second','weekday','yearday','dl']\n",
    "cols_abbr = ['trim','seller']\n",
    "def transform_row(r,cols_to_upper,cols_dt,cols_abbr):\n",
    "    def abbr(s,prefix_size=5 ):\n",
    "        s = s.strip().upper()\n",
    "        if len(s) <= prefix_size:\n",
    "            return(s)\n",
    "        s = s[:prefix_size].replace(' ','-')+s[prefix_size:]\n",
    "        i = s.find(' ')\n",
    "        if i > 0:\n",
    "            s = s[:i]        \n",
    "        return(s)\n",
    " \n",
    "    t =  dt.datetime.strptime(r['saledate'].split('GMT')[0]  ,\"%a %b %d %Y %H:%M:%S \").timetuple()\n",
    "    dc = dict(zip(cols_dt ,t))\n",
    "    for col in cols_abbr:\n",
    "        dc['abbr_'+col] = abbr(r[col])\n",
    "\n",
    "    for col in cols_to_upper:\n",
    "        dc[col] = str(r[col]).upper()\n",
    "    return dc\n",
    "        \n",
    "    \n",
    "ds = ds.rename(columns={'year':'prod_year'})\n",
    "#ds[cols_to_upper+['abbr_trim','abbr_seller']+cols_dt\n",
    "transformed = ds.apply(transform_row, axis=1,result_type='expand',\n",
    "                                     cols_to_upper=cols_to_upper,cols_dt=cols_dt,cols_abbr=cols_abbr)\n",
    "ds[transformed.columns] = transformed   \n",
    "#ds = ds.drop('saledate',axis=1)"
   ]
  },
  {
   "cell_type": "code",
   "execution_count": 6,
   "id": "a9069508",
   "metadata": {
    "scrolled": true
   },
   "outputs": [
    {
     "name": "stdout",
     "output_type": "stream",
     "text": [
      "CPU times: total: 297 ms\n",
      "Wall time: 328 ms\n"
     ]
    }
   ],
   "source": [
    "%%time\n",
    "cond_mean = ds.groupby('prod_year').condition.mean()\n",
    "ds.loc[ds.condition.isna(),'condition'] = ds[ds.condition.isna()].prod_year.apply(lambda s: cond_mean[s])\n",
    "run_mean = ds.groupby('prod_year').odometer.mean()\n",
    "ds.loc[ds.odometer.isna(),'odometer'] = ds[ds.odometer.isna()].prod_year.apply(lambda s: run_mean[s])\n"
   ]
  },
  {
   "cell_type": "code",
   "execution_count": 7,
   "id": "1a94d666",
   "metadata": {},
   "outputs": [
    {
     "name": "stdout",
     "output_type": "stream",
     "text": [
      "CPU times: total: 984 ms\n",
      "Wall time: 1.02 s\n"
     ]
    }
   ],
   "source": [
    "%%time\n",
    "tms = ds.groupby('model').transmission.value_counts().unstack(fill_value=0) \n",
    "tms['expected']= tms.apply( lambda r:  ['automatic','manual'][int(r.automatic < r.manual)], axis=1 )\n",
    "idx = ds.transmission.isna()\n",
    "def put_tms(t):\n",
    "    try:\n",
    "        return(tms.expected[t])\n",
    "    except:\n",
    "        return( 'automatic')\n",
    "ds.loc[idx,'transmission'] = ds[idx].model.apply(put_tms)\n",
    "\n"
   ]
  },
  {
   "cell_type": "code",
   "execution_count": 8,
   "id": "b4158333",
   "metadata": {},
   "outputs": [
    {
     "data": {
      "text/html": [
       "<div>\n",
       "<style scoped>\n",
       "    .dataframe tbody tr th:only-of-type {\n",
       "        vertical-align: middle;\n",
       "    }\n",
       "\n",
       "    .dataframe tbody tr th {\n",
       "        vertical-align: top;\n",
       "    }\n",
       "\n",
       "    .dataframe thead th {\n",
       "        text-align: right;\n",
       "    }\n",
       "</style>\n",
       "<table border=\"1\" class=\"dataframe\">\n",
       "  <thead>\n",
       "    <tr style=\"text-align: right;\">\n",
       "      <th></th>\n",
       "      <th>prod_year</th>\n",
       "      <th>make</th>\n",
       "      <th>model</th>\n",
       "      <th>trim</th>\n",
       "      <th>body</th>\n",
       "      <th>transmission</th>\n",
       "      <th>vin</th>\n",
       "      <th>state</th>\n",
       "      <th>condition</th>\n",
       "      <th>odometer</th>\n",
       "      <th>...</th>\n",
       "      <th>month</th>\n",
       "      <th>day</th>\n",
       "      <th>hour</th>\n",
       "      <th>minute</th>\n",
       "      <th>second</th>\n",
       "      <th>weekday</th>\n",
       "      <th>yearday</th>\n",
       "      <th>dl</th>\n",
       "      <th>abbr_trim</th>\n",
       "      <th>abbr_seller</th>\n",
       "    </tr>\n",
       "  </thead>\n",
       "  <tbody>\n",
       "    <tr>\n",
       "      <th>0</th>\n",
       "      <td>2011</td>\n",
       "      <td>FORD</td>\n",
       "      <td>EDGE</td>\n",
       "      <td>SEL</td>\n",
       "      <td>SUV</td>\n",
       "      <td>automatic</td>\n",
       "      <td>2fmdk3jc4bba41556</td>\n",
       "      <td>md</td>\n",
       "      <td>4.2</td>\n",
       "      <td>111041.0</td>\n",
       "      <td>...</td>\n",
       "      <td>6</td>\n",
       "      <td>2</td>\n",
       "      <td>2</td>\n",
       "      <td>30</td>\n",
       "      <td>0</td>\n",
       "      <td>1</td>\n",
       "      <td>153</td>\n",
       "      <td>-1</td>\n",
       "      <td>SEL</td>\n",
       "      <td>SANTANDER</td>\n",
       "    </tr>\n",
       "    <tr>\n",
       "      <th>1</th>\n",
       "      <td>2014</td>\n",
       "      <td>FORD</td>\n",
       "      <td>FUSION</td>\n",
       "      <td>SE</td>\n",
       "      <td>SEDAN</td>\n",
       "      <td>automatic</td>\n",
       "      <td>3fa6p0h75er208976</td>\n",
       "      <td>mo</td>\n",
       "      <td>3.5</td>\n",
       "      <td>31034.0</td>\n",
       "      <td>...</td>\n",
       "      <td>2</td>\n",
       "      <td>25</td>\n",
       "      <td>2</td>\n",
       "      <td>0</td>\n",
       "      <td>0</td>\n",
       "      <td>2</td>\n",
       "      <td>56</td>\n",
       "      <td>-1</td>\n",
       "      <td>SE</td>\n",
       "      <td>ARS/AVIS</td>\n",
       "    </tr>\n",
       "    <tr>\n",
       "      <th>2</th>\n",
       "      <td>2012</td>\n",
       "      <td>NISSAN</td>\n",
       "      <td>SENTRA</td>\n",
       "      <td>2.0 SL</td>\n",
       "      <td>SEDAN</td>\n",
       "      <td>automatic</td>\n",
       "      <td>3n1ab6ap4cl698412</td>\n",
       "      <td>nj</td>\n",
       "      <td>2.2</td>\n",
       "      <td>35619.0</td>\n",
       "      <td>...</td>\n",
       "      <td>6</td>\n",
       "      <td>10</td>\n",
       "      <td>2</td>\n",
       "      <td>30</td>\n",
       "      <td>0</td>\n",
       "      <td>2</td>\n",
       "      <td>161</td>\n",
       "      <td>-1</td>\n",
       "      <td>2.0-SL</td>\n",
       "      <td>NISSAN-INFINITI</td>\n",
       "    </tr>\n",
       "    <tr>\n",
       "      <th>3</th>\n",
       "      <td>2003</td>\n",
       "      <td>HUMMER</td>\n",
       "      <td>H2</td>\n",
       "      <td>BASE</td>\n",
       "      <td>SUV</td>\n",
       "      <td>automatic</td>\n",
       "      <td>5grgn23u93h101360</td>\n",
       "      <td>tx</td>\n",
       "      <td>2.8</td>\n",
       "      <td>131301.0</td>\n",
       "      <td>...</td>\n",
       "      <td>6</td>\n",
       "      <td>17</td>\n",
       "      <td>3</td>\n",
       "      <td>0</td>\n",
       "      <td>0</td>\n",
       "      <td>2</td>\n",
       "      <td>168</td>\n",
       "      <td>-1</td>\n",
       "      <td>BASE</td>\n",
       "      <td>WICHITA</td>\n",
       "    </tr>\n",
       "    <tr>\n",
       "      <th>4</th>\n",
       "      <td>2007</td>\n",
       "      <td>FORD</td>\n",
       "      <td>FUSION</td>\n",
       "      <td>SEL</td>\n",
       "      <td>SEDAN</td>\n",
       "      <td>automatic</td>\n",
       "      <td>3fahp08z17r268380</td>\n",
       "      <td>md</td>\n",
       "      <td>2.0</td>\n",
       "      <td>127709.0</td>\n",
       "      <td>...</td>\n",
       "      <td>2</td>\n",
       "      <td>3</td>\n",
       "      <td>4</td>\n",
       "      <td>0</td>\n",
       "      <td>0</td>\n",
       "      <td>1</td>\n",
       "      <td>34</td>\n",
       "      <td>-1</td>\n",
       "      <td>SEL</td>\n",
       "      <td>PURPLE</td>\n",
       "    </tr>\n",
       "  </tbody>\n",
       "</table>\n",
       "<p>5 rows × 26 columns</p>\n",
       "</div>"
      ],
      "text/plain": [
       "   prod_year    make   model    trim   body transmission                vin  \\\n",
       "0       2011    FORD    EDGE     SEL    SUV    automatic  2fmdk3jc4bba41556   \n",
       "1       2014    FORD  FUSION      SE  SEDAN    automatic  3fa6p0h75er208976   \n",
       "2       2012  NISSAN  SENTRA  2.0 SL  SEDAN    automatic  3n1ab6ap4cl698412   \n",
       "3       2003  HUMMER      H2    BASE    SUV    automatic  5grgn23u93h101360   \n",
       "4       2007    FORD  FUSION     SEL  SEDAN    automatic  3fahp08z17r268380   \n",
       "\n",
       "  state  condition  odometer  ... month day hour  minute second  weekday  \\\n",
       "0    md        4.2  111041.0  ...     6   2    2      30      0        1   \n",
       "1    mo        3.5   31034.0  ...     2  25    2       0      0        2   \n",
       "2    nj        2.2   35619.0  ...     6  10    2      30      0        2   \n",
       "3    tx        2.8  131301.0  ...     6  17    3       0      0        2   \n",
       "4    md        2.0  127709.0  ...     2   3    4       0      0        1   \n",
       "\n",
       "   yearday  dl  abbr_trim      abbr_seller  \n",
       "0      153  -1        SEL        SANTANDER  \n",
       "1       56  -1         SE         ARS/AVIS  \n",
       "2      161  -1     2.0-SL  NISSAN-INFINITI  \n",
       "3      168  -1       BASE          WICHITA  \n",
       "4       34  -1        SEL           PURPLE  \n",
       "\n",
       "[5 rows x 26 columns]"
      ]
     },
     "execution_count": 8,
     "metadata": {},
     "output_type": "execute_result"
    }
   ],
   "source": [
    "ds.head()"
   ]
  },
  {
   "cell_type": "code",
   "execution_count": 9,
   "id": "c6c94d7f",
   "metadata": {
    "scrolled": true
   },
   "outputs": [
    {
     "name": "stdout",
     "output_type": "stream",
     "text": [
      "<class 'pandas.core.frame.DataFrame'>\n",
      "RangeIndex: 440236 entries, 0 to 440235\n",
      "Data columns (total 26 columns):\n",
      " #   Column        Non-Null Count   Dtype  \n",
      "---  ------        --------------   -----  \n",
      " 0   prod_year     440236 non-null  int64  \n",
      " 1   make          440236 non-null  object \n",
      " 2   model         440236 non-null  object \n",
      " 3   trim          440236 non-null  object \n",
      " 4   body          440236 non-null  object \n",
      " 5   transmission  440236 non-null  object \n",
      " 6   vin           440236 non-null  object \n",
      " 7   state         440236 non-null  object \n",
      " 8   condition     440236 non-null  float64\n",
      " 9   odometer      440236 non-null  float64\n",
      " 10  color         440236 non-null  object \n",
      " 11  interior      440236 non-null  object \n",
      " 12  seller        440236 non-null  object \n",
      " 13  sellingprice  440236 non-null  int64  \n",
      " 14  saledate      440236 non-null  object \n",
      " 15  year          440236 non-null  int64  \n",
      " 16  month         440236 non-null  int64  \n",
      " 17  day           440236 non-null  int64  \n",
      " 18  hour          440236 non-null  int64  \n",
      " 19  minute        440236 non-null  int64  \n",
      " 20  second        440236 non-null  int64  \n",
      " 21  weekday       440236 non-null  int64  \n",
      " 22  yearday       440236 non-null  int64  \n",
      " 23  dl            440236 non-null  int64  \n",
      " 24  abbr_trim     440236 non-null  object \n",
      " 25  abbr_seller   440236 non-null  object \n",
      "dtypes: float64(2), int64(11), object(13)\n",
      "memory usage: 87.3+ MB\n",
      "CPU times: total: 938 ms\n",
      "Wall time: 984 ms\n"
     ]
    }
   ],
   "source": [
    "%%time\n",
    "ds.info()\n",
    "\n",
    "# for s in ['a ','  x','d dfd','123 d','1234 e','12345 fg','12 45 g','123456']: \n",
    "#     print(s, transform_seller(s))\n",
    "#ds['abbr_seller'] = ds.seller.apply(transform_seller,prefix_size=5)"
   ]
  },
  {
   "cell_type": "code",
   "execution_count": 12,
   "id": "980e3384",
   "metadata": {
    "scrolled": true
   },
   "outputs": [
    {
     "name": "stdout",
     "output_type": "stream",
     "text": [
      "CPU times: total: 37.1 s\n",
      "Wall time: 38.9 s\n"
     ]
    }
   ],
   "source": [
    "abbr_count = ds['abbr_seller'].value_counts()\n",
    "\n",
    "def abbr_power(s):\n",
    "    for i in range(6):\n",
    "        if 2**i > abbr_count[s]:\n",
    "            return('ABBR_T_'+str(i) )\n",
    "    return(s)\n",
    "# print( abbr_power('STUDIO'),abbr_power('PUMPKIN'),abbr_power('DOWNEY'),abbr_power('COULTER'),\n",
    "#        abbr_power('ROMEO'),abbr_power('PURPLE') ) \n",
    "ds['abbr_power']= ds['abbr_seller'].apply(abbr_power)\n",
    "\n",
    "\n",
    "g_abbr = ds.groupby('abbr_power').condition\n",
    "q_abbr = pd.DataFrame( { 'q25': g_abbr.quantile(.25),'q75':g_abbr.quantile(.75)} )\n",
    "#q_abbr.loc['159191']\n",
    "ds[['q25','q75']] = ds.abbr_power.apply(lambda s: q_abbr.loc[s] )\n",
    "\n",
    "abbr_cols = ['abbr_seller','abbr_power','q25','q75'] \n",
    "ds[make_cols+abbr_cols ]"
   ]
  },
  {
   "cell_type": "code",
   "execution_count": 14,
   "id": "34697b94",
   "metadata": {},
   "outputs": [
    {
     "data": {
      "text/plain": [
       "BASE             43876\n",
       "SE               34498\n",
       "LX               16511\n",
       "LIMITED          14516\n",
       "LT               13431\n",
       "                 ...  \n",
       "RUBICON            131\n",
       "PASSION COUPE      130\n",
       "325XI              130\n",
       "330CI              130\n",
       "SPORT PZEV         129\n",
       "Name: trim, Length: 296, dtype: int64"
      ]
     },
     "execution_count": 14,
     "metadata": {},
     "output_type": "execute_result"
    }
   ],
   "source": [
    "trim_counts = ds.trim.value_counts() \n",
    "trim_counts[trim_counts > 128]"
   ]
  },
  {
   "cell_type": "code",
   "execution_count": 15,
   "id": "f38db255",
   "metadata": {
    "scrolled": true
   },
   "outputs": [
    {
     "name": "stdout",
     "output_type": "stream",
     "text": [
      "<class 'pandas.core.frame.DataFrame'>\n",
      "RangeIndex: 440236 entries, 0 to 440235\n",
      "Data columns (total 29 columns):\n",
      " #   Column        Non-Null Count   Dtype  \n",
      "---  ------        --------------   -----  \n",
      " 0   prod_year     440236 non-null  int64  \n",
      " 1   make          440236 non-null  object \n",
      " 2   model         440236 non-null  object \n",
      " 3   trim          440236 non-null  object \n",
      " 4   body          440236 non-null  object \n",
      " 5   transmission  440236 non-null  object \n",
      " 6   vin           440236 non-null  object \n",
      " 7   state         440236 non-null  object \n",
      " 8   condition     440236 non-null  float64\n",
      " 9   odometer      440236 non-null  float64\n",
      " 10  color         440236 non-null  object \n",
      " 11  interior      440236 non-null  object \n",
      " 12  seller        440236 non-null  object \n",
      " 13  sellingprice  440236 non-null  int64  \n",
      " 14  saledate      440236 non-null  object \n",
      " 15  year          440236 non-null  int64  \n",
      " 16  month         440236 non-null  int64  \n",
      " 17  day           440236 non-null  int64  \n",
      " 18  hour          440236 non-null  int64  \n",
      " 19  minute        440236 non-null  int64  \n",
      " 20  second        440236 non-null  int64  \n",
      " 21  weekday       440236 non-null  int64  \n",
      " 22  yearday       440236 non-null  int64  \n",
      " 23  dl            440236 non-null  int64  \n",
      " 24  abbr_trim     440236 non-null  object \n",
      " 25  abbr_seller   440236 non-null  object \n",
      " 26  abbr_power    440236 non-null  object \n",
      " 27  q25           440236 non-null  float64\n",
      " 28  q75           440236 non-null  float64\n",
      "dtypes: float64(4), int64(11), object(14)\n",
      "memory usage: 97.4+ MB\n"
     ]
    }
   ],
   "source": [
    "ds.info()"
   ]
  },
  {
   "cell_type": "code",
   "execution_count": 16,
   "id": "1ad75253",
   "metadata": {},
   "outputs": [
    {
     "name": "stdout",
     "output_type": "stream",
     "text": [
      "prod_year : ----- 34 ============> NaNs: 0----\n",
      "{2012: 80625, 2013: 77566, 2014: 64225, 2011: 38115, 2008: 24646, 2007: 24152, 2006: 21118, 2010: 20647, 2005: 16794, 2009: 16064}\n",
      "{1986: 8, 1987: 5, 1984: 4, 1983: 1, 1982: 1}\n",
      "\n",
      "make : ----- 63 ============> NaNs: 0----\n",
      "{'FORD': 74067, 'CHEVROLET': 47818, 'NISSAN': 42866, 'TOYOTA': 31711, 'DODGE': 24294, 'HONDA': 21600, 'HYUNDAI': 17187, 'BMW': 16254, 'KIA': 14325, 'CHRYSLER': 13796}\n",
      "{'DAEWOO': 1, 'DODGE TK': 1, 'MAZDA TK': 1, 'DOT': 1, 'AIRSTREAM': 1}\n",
      "\n",
      "model : ----- 840 ============> NaNs: 0----\n",
      "{'ALTIMA': 15454, 'F-150': 11408, 'FUSION': 10244, 'CAMRY': 10000, 'ESCAPE': 9447, 'FOCUS': 8222, 'UNKNOWN': 8123, 'ACCORD': 7226, '3 SERIES': 6406, 'IMPALA': 6305}\n",
      "{'420-CLASS': 1, 'C230': 1, 'RRS': 1, 'ACTIVEHYBRID 5': 1, 'G500': 1}\n",
      "\n",
      "trim : ----- 1851 ============> NaNs: 0----\n",
      "{'BASE': 43876, 'SE': 34498, 'LX': 16511, 'LIMITED': 14516, 'LT': 13431, 'XLT': 13173, 'LS': 10723, 'LE': 10231, 'GLS': 9707, 'S': 9649}\n",
      "{'EXECUTIVE PZEV': 1, '4C BASE': 1, '3500 SH CEILING 158 WB': 1, 'CHEVY VAN BASE': 1, '4X4 V6 XLT SPORT': 1}\n",
      "\n",
      "body : ----- 46 ============> NaNs: 0----\n",
      "{'SEDAN': 190861, 'SUV': 113042, 'HATCHBACK': 20715, 'MINIVAN': 20114, 'COUPE': 13896, 'CREW CAB': 12823, 'WAGON': 12600, 'NAN': 10393, 'CONVERTIBLE': 8183, 'SUPERCREW': 7081}\n",
      "{'CTS WAGON': 9, 'CAB PLUS 4': 6, 'CAB PLUS': 3, 'RAM VAN': 1, 'CTS-V WAGON': 1}\n",
      "\n",
      "transmission : ----- 2 ============> NaNs: 0----\n",
      "{'automatic': 426457, 'manual': 13779}\n",
      "{'automatic': 426457, 'manual': 13779}\n",
      "\n",
      "vin : ----- 440236 ============> NaNs: 0----\n",
      "{'2fmdk3jc4bba41556': 1, '1g1pg5sb2d7145116': 1, '3vwdx7aj9cm313804': 1, '4t1bf1fk8eu812681': 1, 'wba3t3c51ep737328': 1, '1c4bjwcg8el103190': 1, 'sajwa4fb1clb46227': 1, '1d4pu4gk1bw517358': 1, '1d7hu18n35s232610': 1, '3gnbabdb2as641603': 1}\n",
      "{'ys3eh59g463523257': 1, '3gcec23099g216975': 1, '1lnhl9ek9dg616880': 1, '5n1ar1nb6bc617359': 1, 'jn8as5mt9dw038107': 1}\n",
      "\n",
      "state : ----- 38 ============> NaNs: 0----\n",
      "{'fl': 65618, 'ca': 57407, 'pa': 42462, 'tx': 36104, 'ga': 27141, 'nj': 22102, 'il': 18651, 'nc': 17051, 'oh': 16959, 'tn': 16156}\n",
      "{'ab': 729, 'nm': 130, 'ok': 60, 'ns': 52, 'al': 19}\n",
      "\n",
      "condition : ----- 70 ============> NaNs: 0----\n",
      "{1.9: 33207, 3.5: 21016, 3.7: 20399, 4.4: 20027, 4.3: 19712, 4.2: 19345, 3.6: 18209, 4.1: 18108, 2.0: 16433, 4.0: 15797}\n",
      "{1.8823529411764706: 4, 1.849056603773585: 3, 2.142857142857143: 1, 2.25: 1, 1.8571428571428572: 1}\n",
      "\n",
      "odometer : ----- 159383 ============> NaNs: 0----\n",
      "{1.0: 1059, 999999.0: 55, 10.0: 23, 21310.0: 17, 21587.0: 17, 27023.0: 16, 38936.0: 15, 29850.0: 15, 36007.0: 15, 33114.0: 15}\n",
      "{97160.0: 1, 73715.0: 1, 71041.0: 1, 197617.0: 1, 174269.0: 1}\n",
      "\n",
      "color : ----- 20 ============> NaNs: 0----\n",
      "{'black': 87115, 'white': 84149, 'silver': 65667, 'gray': 65284, 'blue': 40237, 'red': 34514, '—': 20106, 'green': 8975, 'gold': 8934, 'beige': 7257}\n",
      "{'yellow': 979, 'charcoal': 389, 'turquoise': 183, 'pink': 32, 'lime': 14}\n",
      "\n",
      "interior : ----- 17 ============> NaNs: 0----\n",
      "{'black': 192442, 'gray': 140843, 'beige': 46878, 'tan': 34709, '—': 14149, 'brown': 6818, 'red': 1070, 'blue': 885, 'silver': 844, 'off-white': 373}\n",
      "{'white': 215, 'green': 198, 'burgundy': 155, 'orange': 109, 'yellow': 16}\n",
      "\n",
      "seller : ----- 13025 ============> NaNs: 0----\n",
      "{'nissan-infiniti lt': 15823, 'ford motor credit company,llc': 15276, 'the hertz corporation': 14692, 'santander consumer': 12230, 'avis corporation': 10098, 'nissan infiniti lt': 7964, 'wells fargo dealer services': 7061, 'enterprise veh exchange/rental': 5516, 'tdaf remarketing': 5404, 'ge fleet services for itself/servicer': 5368}\n",
      "{'bay shore motors': 1, 'thrifty rent a car systems inc': 1, 'volvo of wichita': 1, 'wright way hyundai': 1, 'studio city auto group': 1}\n",
      "\n",
      "sellingprice : ----- 1735 ============> NaNs: 0----\n",
      "{11000: 3510, 12000: 3499, 13000: 3374, 10000: 3178, 14000: 3104, 11500: 3083, 9000: 2934, 12500: 2925, 10500: 2767, 9500: 2662}\n",
      "{57100: 1, 73100: 1, 41501: 1, 66700: 1, 2725: 1}\n",
      "\n",
      "saledate : ----- 3597 ============> NaNs: 0----\n",
      "{'Tue Feb 10 2015 01:30:00 GMT-0800 (PST)': 4209, 'Tue Jan 27 2015 01:30:00 GMT-0800 (PST)': 3878, 'Tue Feb 17 2015 01:30:00 GMT-0800 (PST)': 3862, 'Tue Jan 20 2015 01:30:00 GMT-0800 (PST)': 3777, 'Tue Mar 03 2015 01:30:00 GMT-0800 (PST)': 3633, 'Tue Feb 03 2015 01:30:00 GMT-0800 (PST)': 3551, 'Tue Jun 02 2015 02:30:00 GMT-0700 (PDT)': 3495, 'Tue Jun 16 2015 02:30:00 GMT-0700 (PDT)': 3335, 'Tue Mar 10 2015 02:30:00 GMT-0700 (PDT)': 3153, 'Thu Dec 18 2014 10:00:00 GMT-0800 (PST)': 2872}\n",
      "{'Wed Jan 07 2015 05:10:00 GMT-0800 (PST)': 1, 'Thu Jun 25 2015 03:35:00 GMT-0700 (PDT)': 1, 'Wed Jun 17 2015 06:15:00 GMT-0700 (PDT)': 1, 'Wed Apr 01 2015 09:31:00 GMT-0700 (PDT)': 1, 'Wed May 20 2015 01:30:00 GMT-0700 (PDT)': 1}\n",
      "\n",
      "year : ----- 2 ============> NaNs: 0----\n",
      "{2015: 397318, 2014: 42918}\n",
      "{2015: 397318, 2014: 42918}\n",
      "\n",
      "month : ----- 8 ============> NaNs: 0----\n",
      "{2: 127375, 1: 111510, 6: 79043, 12: 42753, 5: 41592, 3: 35790, 4: 1150, 7: 1023}\n",
      "{12: 42753, 5: 41592, 3: 35790, 4: 1150, 7: 1023}\n",
      "\n",
      "day : ----- 31 ============> NaNs: 0----\n",
      "{18: 30721, 3: 29058, 4: 26521, 17: 22878, 27: 22258, 11: 19179, 10: 19142, 5: 18998, 19: 17072, 28: 16798}\n",
      "{30: 7738, 7: 7311, 24: 5282, 31: 4853, 1: 1190}\n",
      "\n",
      "hour : ----- 21 ============> NaNs: 0----\n",
      "{2: 117472, 1: 95822, 3: 54344, 4: 49646, 5: 28948, 9: 26216, 10: 17636, 12: 15449, 11: 8116, 6: 6979}\n",
      "{15: 1351, 17: 857, 18: 837, 20: 1, 19: 1}\n",
      "\n",
      "minute : ----- 39 ============> NaNs: 0----\n",
      "{0: 186203, 30: 181436, 15: 23701, 45: 9984, 20: 9502, 10: 7032, 35: 6687, 5: 5076, 50: 3695, 40: 2547}\n",
      "{58: 3, 23: 3, 16: 2, 9: 2, 26: 1}\n",
      "\n",
      "second : ----- 1 ============> NaNs: 0----\n",
      "{0: 440236}\n",
      "{0: 440236}\n",
      "\n",
      "weekday : ----- 7 ============> NaNs: 0----\n",
      "{2: 130655, 1: 129240, 3: 121366, 4: 46335, 0: 12512, 6: 123, 5: 5}\n",
      "{3: 121366, 4: 46335, 0: 12512, 6: 123, 5: 5}\n",
      "\n",
      "yearday : ----- 160 ============> NaNs: 0----\n",
      "{352: 13657, 42: 12270, 154: 10945, 35: 10641, 41: 10534, 56: 10513, 49: 10244, 27: 9819, 153: 9809, 48: 9565}\n",
      "{144: 2, 165: 1, 164: 1, 46: 1, 202: 1}\n",
      "\n",
      "dl : ----- 1 ============> NaNs: 0----\n",
      "{-1: 440236}\n",
      "{-1: 440236}\n",
      "\n",
      "abbr_trim : ----- 1390 ============> NaNs: 0----\n",
      "{'BASE': 43876, 'SE': 34498, 'LX': 16511, 'LIMITED': 15036, 'LT': 13431, 'XLT': 13173, 'LS': 10723, 'LE': 10231, 'GLS': 9707, 'S': 9649}\n",
      "{'EX35-JOURNEY': 1, 'CAR-EXEC': 1, 'FWD-LT': 1, 'Z71-LT': 1, 'AWD-GL': 1}\n",
      "\n",
      "abbr_seller : ----- 6849 ============> NaNs: 0----\n",
      "{'FORD-MOTOR': 21211, 'NISSAN-INFINITI': 15823, 'THE-HERTZ': 14850, 'NISSAN': 13109, 'SANTANDER': 12231, 'ENTERPRISE': 11664, 'AVIS-CORPORATION': 10098, 'AHFC/HONDA': 7906, 'WELLS': 7350, 'TOYOTA': 6743}\n",
      "{\"G'S-AUTOMOTIVE\": 1, 'GRAFF': 1, 'LEXTECHS': 1, 'ANDY-GLOCKNER': 1, 'STUDIO': 1}\n",
      "\n",
      "abbr_power : ----- 1018 ============> NaNs: 0----\n",
      "{'FORD-MOTOR': 21211, 'NISSAN-INFINITI': 15823, 'THE-HERTZ': 14850, 'NISSAN': 13109, 'SANTANDER': 12231, 'ENTERPRISE': 11664, 'ABBR_T_5': 10160, 'AVIS-CORPORATION': 10098, 'AHFC/HONDA': 7906, 'WELLS': 7350}\n",
      "{'FLETCHER': 32, 'JOE-MYERS': 32, 'OTHERS': 32, 'CALSTAR': 32, 'ALL-AUTO': 32}\n",
      "\n",
      "q25 : ----- 156 ============> NaNs: 0----\n",
      "{2.9: 47645, 3.4: 36037, 2.5: 35507, 3.5: 34440, 3.6: 33483, 2.1: 31040, 1.9: 28772, 2.8: 23386, 2.3: 21811, 2.7: 16629}\n",
      "{2.4611016769263427: 32, 3.3757156935205717: 32, 2.623196814948039: 32, 2.3255147933120095: 32, 3.02618838028169: 32}\n",
      "\n",
      "q75 : ----- 131 ============> NaNs: 0----\n",
      "{4.2: 67617, 4.4: 42390, 3.9: 42228, 4.0: 42092, 4.3: 39122, 3.7: 37114, 4.6: 27652, 3.6: 18372, 4.1: 14981, 3.8: 12266}\n",
      "{1.0: 33, 2.7181274775058197: 32, 3.0511883802816904: 32, 4.725: 32, 3.5455262469317317: 32}\n",
      "\n"
     ]
    }
   ],
   "source": [
    "for c in ds.columns:\n",
    "    print(f\"{c} : ----- { ds[c].value_counts().size } ============> NaNs: {sum(ds[c].isna()) }----\")\n",
    "    print(dict( ds[c].value_counts().head(10)) )\n",
    "    print(dict( ds[c].value_counts().tail()) )\n",
    "    print()"
   ]
  },
  {
   "cell_type": "code",
   "execution_count": 17,
   "id": "9e831cc5",
   "metadata": {},
   "outputs": [
    {
     "data": {
      "text/html": [
       "<div>\n",
       "<style scoped>\n",
       "    .dataframe tbody tr th:only-of-type {\n",
       "        vertical-align: middle;\n",
       "    }\n",
       "\n",
       "    .dataframe tbody tr th {\n",
       "        vertical-align: top;\n",
       "    }\n",
       "\n",
       "    .dataframe thead th {\n",
       "        text-align: right;\n",
       "    }\n",
       "</style>\n",
       "<table border=\"1\" class=\"dataframe\">\n",
       "  <thead>\n",
       "    <tr style=\"text-align: right;\">\n",
       "      <th></th>\n",
       "      <th>prod_year</th>\n",
       "      <th>make</th>\n",
       "      <th>model</th>\n",
       "      <th>trim</th>\n",
       "      <th>body</th>\n",
       "      <th>transmission</th>\n",
       "      <th>vin</th>\n",
       "      <th>state</th>\n",
       "      <th>condition</th>\n",
       "      <th>odometer</th>\n",
       "      <th>...</th>\n",
       "      <th>minute</th>\n",
       "      <th>second</th>\n",
       "      <th>weekday</th>\n",
       "      <th>yearday</th>\n",
       "      <th>dl</th>\n",
       "      <th>abbr_trim</th>\n",
       "      <th>abbr_seller</th>\n",
       "      <th>abbr_power</th>\n",
       "      <th>q25</th>\n",
       "      <th>q75</th>\n",
       "    </tr>\n",
       "  </thead>\n",
       "  <tbody>\n",
       "    <tr>\n",
       "      <th>0</th>\n",
       "      <td>2011</td>\n",
       "      <td>FORD</td>\n",
       "      <td>EDGE</td>\n",
       "      <td>SEL</td>\n",
       "      <td>SUV</td>\n",
       "      <td>automatic</td>\n",
       "      <td>2fmdk3jc4bba41556</td>\n",
       "      <td>md</td>\n",
       "      <td>4.2</td>\n",
       "      <td>111041.0</td>\n",
       "      <td>...</td>\n",
       "      <td>30</td>\n",
       "      <td>0</td>\n",
       "      <td>1</td>\n",
       "      <td>153</td>\n",
       "      <td>-1</td>\n",
       "      <td>SEL</td>\n",
       "      <td>SANTANDER</td>\n",
       "      <td>SANTANDER</td>\n",
       "      <td>2.1</td>\n",
       "      <td>3.7</td>\n",
       "    </tr>\n",
       "    <tr>\n",
       "      <th>1</th>\n",
       "      <td>2014</td>\n",
       "      <td>FORD</td>\n",
       "      <td>FUSION</td>\n",
       "      <td>SE</td>\n",
       "      <td>SEDAN</td>\n",
       "      <td>automatic</td>\n",
       "      <td>3fa6p0h75er208976</td>\n",
       "      <td>mo</td>\n",
       "      <td>3.5</td>\n",
       "      <td>31034.0</td>\n",
       "      <td>...</td>\n",
       "      <td>0</td>\n",
       "      <td>0</td>\n",
       "      <td>2</td>\n",
       "      <td>56</td>\n",
       "      <td>-1</td>\n",
       "      <td>SE</td>\n",
       "      <td>ARS/AVIS</td>\n",
       "      <td>ARS/AVIS</td>\n",
       "      <td>3.7</td>\n",
       "      <td>4.3</td>\n",
       "    </tr>\n",
       "    <tr>\n",
       "      <th>2</th>\n",
       "      <td>2012</td>\n",
       "      <td>NISSAN</td>\n",
       "      <td>SENTRA</td>\n",
       "      <td>2.0 SL</td>\n",
       "      <td>SEDAN</td>\n",
       "      <td>automatic</td>\n",
       "      <td>3n1ab6ap4cl698412</td>\n",
       "      <td>nj</td>\n",
       "      <td>2.2</td>\n",
       "      <td>35619.0</td>\n",
       "      <td>...</td>\n",
       "      <td>30</td>\n",
       "      <td>0</td>\n",
       "      <td>2</td>\n",
       "      <td>161</td>\n",
       "      <td>-1</td>\n",
       "      <td>2.0-SL</td>\n",
       "      <td>NISSAN-INFINITI</td>\n",
       "      <td>NISSAN-INFINITI</td>\n",
       "      <td>3.4</td>\n",
       "      <td>4.3</td>\n",
       "    </tr>\n",
       "    <tr>\n",
       "      <th>3</th>\n",
       "      <td>2003</td>\n",
       "      <td>HUMMER</td>\n",
       "      <td>H2</td>\n",
       "      <td>BASE</td>\n",
       "      <td>SUV</td>\n",
       "      <td>automatic</td>\n",
       "      <td>5grgn23u93h101360</td>\n",
       "      <td>tx</td>\n",
       "      <td>2.8</td>\n",
       "      <td>131301.0</td>\n",
       "      <td>...</td>\n",
       "      <td>0</td>\n",
       "      <td>0</td>\n",
       "      <td>2</td>\n",
       "      <td>168</td>\n",
       "      <td>-1</td>\n",
       "      <td>BASE</td>\n",
       "      <td>WICHITA</td>\n",
       "      <td>WICHITA</td>\n",
       "      <td>2.9</td>\n",
       "      <td>4.1</td>\n",
       "    </tr>\n",
       "    <tr>\n",
       "      <th>4</th>\n",
       "      <td>2007</td>\n",
       "      <td>FORD</td>\n",
       "      <td>FUSION</td>\n",
       "      <td>SEL</td>\n",
       "      <td>SEDAN</td>\n",
       "      <td>automatic</td>\n",
       "      <td>3fahp08z17r268380</td>\n",
       "      <td>md</td>\n",
       "      <td>2.0</td>\n",
       "      <td>127709.0</td>\n",
       "      <td>...</td>\n",
       "      <td>0</td>\n",
       "      <td>0</td>\n",
       "      <td>1</td>\n",
       "      <td>34</td>\n",
       "      <td>-1</td>\n",
       "      <td>SEL</td>\n",
       "      <td>PURPLE</td>\n",
       "      <td>PURPLE</td>\n",
       "      <td>2.0</td>\n",
       "      <td>2.0</td>\n",
       "    </tr>\n",
       "  </tbody>\n",
       "</table>\n",
       "<p>5 rows × 29 columns</p>\n",
       "</div>"
      ],
      "text/plain": [
       "   prod_year    make   model    trim   body transmission                vin  \\\n",
       "0       2011    FORD    EDGE     SEL    SUV    automatic  2fmdk3jc4bba41556   \n",
       "1       2014    FORD  FUSION      SE  SEDAN    automatic  3fa6p0h75er208976   \n",
       "2       2012  NISSAN  SENTRA  2.0 SL  SEDAN    automatic  3n1ab6ap4cl698412   \n",
       "3       2003  HUMMER      H2    BASE    SUV    automatic  5grgn23u93h101360   \n",
       "4       2007    FORD  FUSION     SEL  SEDAN    automatic  3fahp08z17r268380   \n",
       "\n",
       "  state  condition  odometer  ... minute second weekday  yearday dl  \\\n",
       "0    md        4.2  111041.0  ...     30      0       1      153 -1   \n",
       "1    mo        3.5   31034.0  ...      0      0       2       56 -1   \n",
       "2    nj        2.2   35619.0  ...     30      0       2      161 -1   \n",
       "3    tx        2.8  131301.0  ...      0      0       2      168 -1   \n",
       "4    md        2.0  127709.0  ...      0      0       1       34 -1   \n",
       "\n",
       "   abbr_trim      abbr_seller       abbr_power  q25  q75  \n",
       "0        SEL        SANTANDER        SANTANDER  2.1  3.7  \n",
       "1         SE         ARS/AVIS         ARS/AVIS  3.7  4.3  \n",
       "2     2.0-SL  NISSAN-INFINITI  NISSAN-INFINITI  3.4  4.3  \n",
       "3       BASE          WICHITA          WICHITA  2.9  4.1  \n",
       "4        SEL           PURPLE           PURPLE  2.0  2.0  \n",
       "\n",
       "[5 rows x 29 columns]"
      ]
     },
     "execution_count": 17,
     "metadata": {},
     "output_type": "execute_result"
    }
   ],
   "source": [
    "ds.head()"
   ]
  },
  {
   "cell_type": "code",
   "execution_count": 18,
   "id": "1f4cfe11",
   "metadata": {},
   "outputs": [],
   "source": [
    "ds_vin = ds.vin\n",
    "ds_ta = ds.sellingprice\n",
    "trash_cols = ['saledate','trim','abbr_seller','seller','second','yearday','dl']\n",
    "ds_fe = ds.drop(['vin','sellingprice']+trash_cols,axis=1)"
   ]
  },
  {
   "cell_type": "code",
   "execution_count": 19,
   "id": "576dfe77",
   "metadata": {},
   "outputs": [],
   "source": [
    "enc= OrdinalEncoder()\n",
    "ds_fe = pd.DataFrame( enc.fit_transform(ds_fe),columns = enc.get_feature_names_out() )"
   ]
  },
  {
   "cell_type": "code",
   "execution_count": 20,
   "id": "bd4191c2",
   "metadata": {},
   "outputs": [
    {
     "name": "stdout",
     "output_type": "stream",
     "text": [
      "(330177, 20) (110059, 20) (330177,) (110059,)\n"
     ]
    },
    {
     "data": {
      "text/html": [
       "<div>\n",
       "<style scoped>\n",
       "    .dataframe tbody tr th:only-of-type {\n",
       "        vertical-align: middle;\n",
       "    }\n",
       "\n",
       "    .dataframe tbody tr th {\n",
       "        vertical-align: top;\n",
       "    }\n",
       "\n",
       "    .dataframe thead th {\n",
       "        text-align: right;\n",
       "    }\n",
       "</style>\n",
       "<table border=\"1\" class=\"dataframe\">\n",
       "  <thead>\n",
       "    <tr style=\"text-align: right;\">\n",
       "      <th></th>\n",
       "      <th>prod_year</th>\n",
       "      <th>make</th>\n",
       "      <th>model</th>\n",
       "      <th>body</th>\n",
       "      <th>transmission</th>\n",
       "      <th>state</th>\n",
       "      <th>condition</th>\n",
       "      <th>odometer</th>\n",
       "      <th>color</th>\n",
       "      <th>interior</th>\n",
       "      <th>year</th>\n",
       "      <th>month</th>\n",
       "      <th>day</th>\n",
       "      <th>hour</th>\n",
       "      <th>minute</th>\n",
       "      <th>weekday</th>\n",
       "      <th>abbr_trim</th>\n",
       "      <th>abbr_power</th>\n",
       "      <th>q25</th>\n",
       "      <th>q75</th>\n",
       "    </tr>\n",
       "  </thead>\n",
       "  <tbody>\n",
       "    <tr>\n",
       "      <th>23324</th>\n",
       "      <td>25.0</td>\n",
       "      <td>8.0</td>\n",
       "      <td>729.0</td>\n",
       "      <td>40.0</td>\n",
       "      <td>0.0</td>\n",
       "      <td>6.0</td>\n",
       "      <td>41.0</td>\n",
       "      <td>99306.0</td>\n",
       "      <td>1.0</td>\n",
       "      <td>1.0</td>\n",
       "      <td>0.0</td>\n",
       "      <td>7.0</td>\n",
       "      <td>17.0</td>\n",
       "      <td>10.0</td>\n",
       "      <td>0.0</td>\n",
       "      <td>3.0</td>\n",
       "      <td>840.0</td>\n",
       "      <td>980.0</td>\n",
       "      <td>11.0</td>\n",
       "      <td>65.0</td>\n",
       "    </tr>\n",
       "    <tr>\n",
       "      <th>138483</th>\n",
       "      <td>32.0</td>\n",
       "      <td>44.0</td>\n",
       "      <td>320.0</td>\n",
       "      <td>7.0</td>\n",
       "      <td>0.0</td>\n",
       "      <td>32.0</td>\n",
       "      <td>65.0</td>\n",
       "      <td>8496.0</td>\n",
       "      <td>1.0</td>\n",
       "      <td>6.0</td>\n",
       "      <td>1.0</td>\n",
       "      <td>5.0</td>\n",
       "      <td>2.0</td>\n",
       "      <td>3.0</td>\n",
       "      <td>22.0</td>\n",
       "      <td>2.0</td>\n",
       "      <td>1156.0</td>\n",
       "      <td>646.0</td>\n",
       "      <td>122.0</td>\n",
       "      <td>117.0</td>\n",
       "    </tr>\n",
       "    <tr>\n",
       "      <th>65633</th>\n",
       "      <td>32.0</td>\n",
       "      <td>44.0</td>\n",
       "      <td>619.0</td>\n",
       "      <td>40.0</td>\n",
       "      <td>0.0</td>\n",
       "      <td>17.0</td>\n",
       "      <td>38.0</td>\n",
       "      <td>6701.0</td>\n",
       "      <td>14.0</td>\n",
       "      <td>16.0</td>\n",
       "      <td>1.0</td>\n",
       "      <td>5.0</td>\n",
       "      <td>7.0</td>\n",
       "      <td>2.0</td>\n",
       "      <td>22.0</td>\n",
       "      <td>0.0</td>\n",
       "      <td>972.0</td>\n",
       "      <td>793.0</td>\n",
       "      <td>18.0</td>\n",
       "      <td>78.0</td>\n",
       "    </tr>\n",
       "    <tr>\n",
       "      <th>377581</th>\n",
       "      <td>31.0</td>\n",
       "      <td>17.0</td>\n",
       "      <td>272.0</td>\n",
       "      <td>40.0</td>\n",
       "      <td>0.0</td>\n",
       "      <td>3.0</td>\n",
       "      <td>66.0</td>\n",
       "      <td>53405.0</td>\n",
       "      <td>7.0</td>\n",
       "      <td>0.0</td>\n",
       "      <td>1.0</td>\n",
       "      <td>4.0</td>\n",
       "      <td>25.0</td>\n",
       "      <td>5.0</td>\n",
       "      <td>0.0</td>\n",
       "      <td>1.0</td>\n",
       "      <td>1051.0</td>\n",
       "      <td>588.0</td>\n",
       "      <td>81.0</td>\n",
       "      <td>106.0</td>\n",
       "    </tr>\n",
       "    <tr>\n",
       "      <th>110954</th>\n",
       "      <td>31.0</td>\n",
       "      <td>33.0</td>\n",
       "      <td>202.0</td>\n",
       "      <td>24.0</td>\n",
       "      <td>0.0</td>\n",
       "      <td>28.0</td>\n",
       "      <td>57.0</td>\n",
       "      <td>14924.0</td>\n",
       "      <td>1.0</td>\n",
       "      <td>1.0</td>\n",
       "      <td>1.0</td>\n",
       "      <td>4.0</td>\n",
       "      <td>27.0</td>\n",
       "      <td>2.0</td>\n",
       "      <td>0.0</td>\n",
       "      <td>3.0</td>\n",
       "      <td>417.0</td>\n",
       "      <td>593.0</td>\n",
       "      <td>81.0</td>\n",
       "      <td>106.0</td>\n",
       "    </tr>\n",
       "  </tbody>\n",
       "</table>\n",
       "</div>"
      ],
      "text/plain": [
       "        prod_year  make  model  body  transmission  state  condition  \\\n",
       "23324        25.0   8.0  729.0  40.0           0.0    6.0       41.0   \n",
       "138483       32.0  44.0  320.0   7.0           0.0   32.0       65.0   \n",
       "65633        32.0  44.0  619.0  40.0           0.0   17.0       38.0   \n",
       "377581       31.0  17.0  272.0  40.0           0.0    3.0       66.0   \n",
       "110954       31.0  33.0  202.0  24.0           0.0   28.0       57.0   \n",
       "\n",
       "        odometer  color  interior  year  month   day  hour  minute  weekday  \\\n",
       "23324    99306.0    1.0       1.0   0.0    7.0  17.0  10.0     0.0      3.0   \n",
       "138483    8496.0    1.0       6.0   1.0    5.0   2.0   3.0    22.0      2.0   \n",
       "65633     6701.0   14.0      16.0   1.0    5.0   7.0   2.0    22.0      0.0   \n",
       "377581   53405.0    7.0       0.0   1.0    4.0  25.0   5.0     0.0      1.0   \n",
       "110954   14924.0    1.0       1.0   1.0    4.0  27.0   2.0     0.0      3.0   \n",
       "\n",
       "        abbr_trim  abbr_power    q25    q75  \n",
       "23324       840.0       980.0   11.0   65.0  \n",
       "138483     1156.0       646.0  122.0  117.0  \n",
       "65633       972.0       793.0   18.0   78.0  \n",
       "377581     1051.0       588.0   81.0  106.0  \n",
       "110954      417.0       593.0   81.0  106.0  "
      ]
     },
     "execution_count": 20,
     "metadata": {},
     "output_type": "execute_result"
    }
   ],
   "source": [
    "fe_tr,fe_va,ta_tr,ta_va = train_test_split(ds_fe,ds_ta,test_size = .25)\n",
    "print( fe_tr.shape,fe_va.shape,ta_tr.shape,ta_va.shape)\n",
    "fe_tr.head()"
   ]
  },
  {
   "cell_type": "code",
   "execution_count": 21,
   "id": "3a23b842",
   "metadata": {},
   "outputs": [],
   "source": [
    "# %%time\n",
    "# sel = SelectFromModel(\n",
    "#      RandomForestRegressor(n_estimators = 20,max_depth = 8, criterion='squared_error',max_features=24)\n",
    "# )\n",
    "# sel.fit(fe_tr,ta_tr )\n",
    "# pd.Series( sel.get_support(), index = fe_tr.columns )"
   ]
  },
  {
   "cell_type": "code",
   "execution_count": 22,
   "id": "cca16d8d",
   "metadata": {},
   "outputs": [],
   "source": [
    "# %%time\n",
    "# for n_est in (13,21,34,55,89,144,233):\n",
    "#     start = ti.default_timer()  \n",
    "#     md = RandomForestRegressor(max_depth=32, n_estimators=n_est)\n",
    "#     md.fit(fe_tr,ta_tr)\n",
    "#     pr = pd.Series( md.predict(fe_va))\n",
    "#     print(f\"{n_est} : {mape(ta_va,pr)} | {ti.default_timer()-start}\")"
   ]
  },
  {
   "cell_type": "code",
   "execution_count": 37,
   "id": "2e4c6b55",
   "metadata": {
    "scrolled": true
   },
   "outputs": [
    {
     "name": "stdout",
     "output_type": "stream",
     "text": [
      "est:200 mss:2 msl:2 mf:24 cri:poisson=> 0.191677334974761 | 1001.776028399996\n",
      "CPU times: total: 16min 2s\n",
      "Wall time: 16min 41s\n"
     ]
    }
   ],
   "source": [
    "%%time\n",
    "for n_est in [200]:\n",
    "    for mss in [2]:\n",
    "        for msl in [2]:\n",
    "            for mf in [24]:\n",
    "                for cri in ['poisson']:  \n",
    "#            min_samples_split=2, min_samples_leaf=1, min_weight_fraction_leaf=0.0, max_features=1.0\n",
    "                    start = ti.default_timer()  \n",
    "                    md = RandomForestRegressor(criterion=cri,max_depth=100, n_estimators=n_est,\n",
    "       #                  random_state = 5555,                      \n",
    "                         min_samples_split=mss, min_samples_leaf=msl, max_features=mf,\n",
    "                         warm_start=True)\n",
    "                    md.fit(fe_tr,ta_tr)\n",
    "                    prt = pd.Series( md.predict(fe_va),index=fe_va.index )\n",
    "                    print(f\"est:{n_est} mss:{mss} msl:{msl} mf:{mf} cri:{cri}=> {mape(ta_va,prt)} | {ti.default_timer()-start}\")"
   ]
  },
  {
   "cell_type": "code",
   "execution_count": 38,
   "id": "d6fb160f",
   "metadata": {},
   "outputs": [],
   "source": [
    "pr = prt"
   ]
  },
  {
   "cell_type": "code",
   "execution_count": 39,
   "id": "347a9521",
   "metadata": {
    "scrolled": false
   },
   "outputs": [
    {
     "data": {
      "text/plain": [
       "0.191677334974761"
      ]
     },
     "execution_count": 39,
     "metadata": {},
     "output_type": "execute_result"
    }
   ],
   "source": [
    "mape(ta_va,pr)"
   ]
  },
  {
   "cell_type": "code",
   "execution_count": null,
   "id": "361be815",
   "metadata": {},
   "outputs": [],
   "source": [
    "RandomForestRegressor().get_params()"
   ]
  },
  {
   "cell_type": "code",
   "execution_count": null,
   "id": "6863a097",
   "metadata": {},
   "outputs": [],
   "source": [
    "# %%time\n",
    "# md = DecisionTreeRegressor(max_depth=333)\n",
    "# md.fit(fe_tr,ta_tr)\n",
    "# prt = pd.Series( md.predict(fe_va),index=fe_va.index )\n",
    "# mape(ta_va,prt)               "
   ]
  },
  {
   "cell_type": "code",
   "execution_count": 40,
   "id": "6156ae33",
   "metadata": {},
   "outputs": [
    {
     "data": {
      "image/png": "[encoded data removed]",
      "text/plain": [
       "<Figure size 2000x600 with 1 Axes>"
      ]
     },
     "metadata": {},
     "output_type": "display_data"
    }
   ],
   "source": [
    "pe = abs(pr-ta_va)/(pr+ta_va)\n",
    "pe.hist(figsize=(20,6),bins=100);"
   ]
  },
  {
   "cell_type": "code",
   "execution_count": null,
   "id": "61759297",
   "metadata": {},
   "outputs": [],
   "source": [
    "ds['pr'] = pr\n",
    "ds['pe'] = pe"
   ]
  },
  {
   "cell_type": "code",
   "execution_count": null,
   "id": "eeb98ee2",
   "metadata": {},
   "outputs": [],
   "source": [
    "print( ds.sellingprice[ds.pe < 10_000_000 ].shape,pr.shape,ta_va.shape,(pr-ta_va).shape )\n",
    "pr.head().index,ta_va.head().index,fe_va.head().index,(pr - ta_va).head().index"
   ]
  },
  {
   "cell_type": "code",
   "execution_count": null,
   "id": "d2f337f5",
   "metadata": {},
   "outputs": [],
   "source": [
    "# big_diffs = ds.loc[ abs(pr-ta_va).sort_values(ascending = False).head(60).index ]\n",
    "# rel_diffs = ds.loc[pe.sort_values(ascending = False).head(60).index]\n",
    "# diffs_33 = ds[pe >.33]\n",
    "# diffs_33m = ds[pe <.33]\n",
    "# diffs_50 = ds[pe >.5]\n",
    "# diffs_50m = ds[pe <.5]\n",
    "# diffs_66 = ds[pe >.66]\n",
    "# diffs_66m = ds[pe < .66]\n",
    "# mape"
   ]
  },
  {
   "cell_type": "code",
   "execution_count": 48,
   "id": "0408f151",
   "metadata": {},
   "outputs": [
    {
     "name": "stdout",
     "output_type": "stream",
     "text": [
      " 1000:\t 0.13738394532504306 \t (1459,) \n",
      " 2000:\t 0.12742516895944486 \t (5444,) \n",
      " 3500:\t 0.11382301256480432 \t (12057,) \n",
      " 5000:\t 0.10152179835842383 \t (18806,) \n"
     ]
    }
   ],
   "source": [
    "for th in [1000,2000,3500,5000]:\n",
    "    print(f\" {th}:\\t { mape(pr[pr>th],ta_va[pr>th])} \\t {pr[pr<th].shape} \")"
   ]
  },
  {
   "cell_type": "code",
   "execution_count": null,
   "id": "4fbe5f9d",
   "metadata": {},
   "outputs": [],
   "source": [
    "print(mape(ta_va[ds.pe<.25],pr[ds.pe<.25]),mape(ta_va[ds.pe<.5],pr[ds.pe<.5]),mape(ta_va[ds.pe<.75],pr[ds.pe<.75]))\n",
    "#diffs_50_plus = "
   ]
  },
  {
   "cell_type": "code",
   "execution_count": null,
   "id": "05de8631",
   "metadata": {},
   "outputs": [],
   "source": [
    "print( ds.sellingprice.mean(),pr.mean(),rel_diffs.sellingprice.mean(),rel_diffs.pr.mean() )\n",
    "rel_diffs[price_cols+make_cols+wear_cols+['seller']+['abbr_power']+['q25']+['state']]"
   ]
  },
  {
   "cell_type": "code",
   "execution_count": null,
   "id": "bc1e523b",
   "metadata": {},
   "outputs": [],
   "source": [
    "pd.DataFrame( {\n",
    "'d50': diffs_50.q25.value_counts().head(30),\n",
    "'d66': diffs_66.q25.value_counts().head(30),\n",
    "'ds': ds.q75.value_counts().head(30)\n",
    "}    ).sort_values(by = 'd50',ascending=False)    "
   ]
  },
  {
   "cell_type": "code",
   "execution_count": null,
   "id": "173bb20c",
   "metadata": {},
   "outputs": [],
   "source": [
    "raise"
   ]
  },
  {
   "cell_type": "code",
   "execution_count": null,
   "id": "f13626ce",
   "metadata": {},
   "outputs": [],
   "source": [
    "#print( rel_diffs.seller.value_counts() )\n",
    "#ds.seller.value_counts()"
   ]
  },
  {
   "cell_type": "code",
   "execution_count": null,
   "id": "f5c21616",
   "metadata": {},
   "outputs": [],
   "source": [
    "cnd = ds.pivot_table(\n",
    "    index='seller',values=['sellingprice','condition'],aggfunc=['mean','count']\n",
    ")\n",
    "cnd[ cnd[('count','condition')]>10000].sort_values(by=('mean','condition') )"
   ]
  },
  {
   "cell_type": "code",
   "execution_count": null,
   "id": "bb8c838e",
   "metadata": {},
   "outputs": [],
   "source": [
    "cheapsellers = list( ds[ds.sellingprice<1000].seller.value_counts().head(60).index )\n",
    "print(ds[ds.seller.isin( cheapsellers )].groupby(ds.seller).sellingprice.quantile(.25) )\n",
    "ds.groupby(ds.seller).condition.quantile(.25).head(60)"
   ]
  },
  {
   "cell_type": "code",
   "execution_count": null,
   "id": "f93da334",
   "metadata": {},
   "outputs": [],
   "source": [
    "ta_va[ta_va<2000].hist(bins=10,figsize = (20,8),alpha=.5);\n",
    "pr[pr<2000].hist(bins=10,figsize = (20,8),alpha=.5);"
   ]
  },
  {
   "cell_type": "code",
   "execution_count": null,
   "id": "db785fb2",
   "metadata": {},
   "outputs": [],
   "source": [
    "ds[ds.seller=='credit acceptance corp/vrs/southfield'].sellingprice.hist(bins=50,figsize = (20,8),alpha=0.5);\n",
    "ds[ds.seller.str[:12]=='purple heart'].sellingprice.hist(bins=50,figsize = (20,8),alpha=0.5);"
   ]
  },
  {
   "cell_type": "code",
   "execution_count": null,
   "id": "459d915b",
   "metadata": {},
   "outputs": [],
   "source": [
    "ds[ds['abbr_power']=='PURPLE'].pr.quantile([.1,.25,.5,.75])"
   ]
  },
  {
   "cell_type": "code",
   "execution_count": null,
   "id": "d5df5b6e",
   "metadata": {},
   "outputs": [],
   "source": [
    "ds[ds['abbr_power']=='QUALITY'].pr.quantile([.1,.25,.5,.75,.9])"
   ]
  },
  {
   "cell_type": "code",
   "execution_count": null,
   "id": "f9c16f16",
   "metadata": {},
   "outputs": [],
   "source": []
  }
 ],
 "metadata": {
  "kernelspec": {
   "display_name": "Python 3 (ipykernel)",
   "language": "python",
   "name": "python3"
  },
  "language_info": {
   "codemirror_mode": {
    "name": "ipython",
    "version": 3
   },
   "file_extension": ".py",
   "mimetype": "text/x-python",
   "name": "python",
   "nbconvert_exporter": "python",
   "pygments_lexer": "ipython3",
   "version": "3.9.16"
  }
 },
 "nbformat": 4,
 "nbformat_minor": 5
}

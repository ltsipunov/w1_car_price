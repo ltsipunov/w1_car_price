{
 "cells": [
  {
   "cell_type": "markdown",
   "id": "35a9c60f",
   "metadata": {},
   "source": [
    "## Блокнот для кроссвалидации\n",
    "Из-за ограничений по объему памяти и времени выполнения  проверяем толькр наиболее интересные варианты"
   ]
  },
  {
   "cell_type": "code",
   "execution_count": 1,
   "id": "849a89ad",
   "metadata": {
    "scrolled": false
   },
   "outputs": [],
   "source": [
    "from task import * \n",
    "import time\n",
    "# from utils import X,y,cat_cols,fillna,normalize,skew,encode"
   ]
  },
  {
   "cell_type": "markdown",
   "id": "1312b2d9",
   "metadata": {},
   "source": [
    "## Загрузка данных"
   ]
  },
  {
   "cell_type": "code",
   "execution_count": 2,
   "id": "fe7e4fea",
   "metadata": {},
   "outputs": [],
   "source": [
    "def data():\n",
    "    return ( pd.read_csv('datasets/train.csv') )\n",
    "\n",
    "def cross_valid_sets():\n",
    "    df0 = data()\n",
    "    df0,df2 = train_test_split(df0,test_size=.5)\n",
    "    df0,df1 = train_test_split(df0,test_size=.5)\n",
    "    df2,df3 = train_test_split(df2,test_size=.5)\n",
    "    return([df0,df1,df2,df3])\n"
   ]
  },
  {
   "cell_type": "markdown",
   "id": "1f35cb95",
   "metadata": {},
   "source": [
    "### Класс для кроссвалидации коррекций данных и гиперпараметров\n",
    " "
   ]
  },
  {
   "cell_type": "code",
   "execution_count": 3,
   "id": "8bab62dd",
   "metadata": {},
   "outputs": [],
   "source": [
    "class CrossValidator(Task):\n",
    "\n",
    "    def __init__(self, dfs,params = {}):\n",
    "        super().__init__(dfs,params)\n",
    "        self.datasets = []\n",
    "        for i in [0,1,2,3]:\n",
    "            dx = shuffle(pd.concat( dfs[:i]+dfs[(i+1):] ,axis=0 )).copy()\n",
    "            self.datasets.append(ScoreSet( dx, dfs[i].copy(),params=self.params) ) \n",
    "# Training dataset  combined from 4 base dataframes to 4 folds in all possible combinations 3:1  \n",
    "\n",
    "    def process_fold(self,f):\n",
    "        self.log +=(f\"{f.log} \\n\")  \n",
    "        f.set_encoder( self.new_encoder() ).set_model(self.new_model() )\n",
    "        f.prepare().fit().predict()\n",
    "        self.log +=(f\"{f.log} \\n\")  \n",
    "# Then run validation on each fold \n",
    "        \n",
    "    def process(self):\n",
    "        for f in self.datasets: \n",
    "            self.process_fold(f) \n",
    "        logging.debug(f\"cross-validation finished: {self.log}\")\n",
    "        self.score = self.mean_score()      \n",
    "        print(f\"MAPE mean: {self.score}\")\n",
    "        logging.info(f\"MAPE mean: {self.score}\")        \n",
    "        return(self)\n",
    "    \n",
    "    def mean_score(self):\n",
    "        return sum( [ds.scores() for ds in self.datasets ])/len(self.datasets)\n",
    "    "
   ]
  },
  {
   "cell_type": "code",
   "execution_count": 4,
   "id": "7eab1dca",
   "metadata": {},
   "outputs": [
    {
     "name": "stdout",
     "output_type": "stream",
     "text": [
      "MAPE mean: 0.17104526065237918\n"
     ]
    },
    {
     "ename": "NameError",
     "evalue": "name 'time' is not defined",
     "output_type": "error",
     "traceback": [
      "\u001b[1;31m---------------------------------------------------------------------------\u001b[0m",
      "\u001b[1;31mNameError\u001b[0m                                 Traceback (most recent call last)",
      "Cell \u001b[1;32mIn[4], line 7\u001b[0m\n\u001b[0;32m      5\u001b[0m cv \u001b[38;5;241m=\u001b[39m CrossValidator( cross_valid_sets() ,params\u001b[38;5;241m=\u001b[39mparams)\n\u001b[0;32m      6\u001b[0m cv\u001b[38;5;241m.\u001b[39mprocess()\n\u001b[1;32m----> 7\u001b[0m \u001b[43mtime\u001b[49m\u001b[38;5;241m.\u001b[39msleep(\u001b[38;5;241m10\u001b[39m)\n\u001b[0;32m      8\u001b[0m \u001b[38;5;28;01mdel\u001b[39;00m cv\n",
      "\u001b[1;31mNameError\u001b[0m: name 'time' is not defined"
     ]
    }
   ],
   "source": [
    "params = { \n",
    "            'rounding': { 'odometer':3000,'condition':1},\n",
    "            'model': {  'criterion':'poisson','n_estimators':128, 'max_depth':32 }    \n",
    "        }\n",
    "cv = CrossValidator( cross_valid_sets() ,params=params)\n",
    "cv.process()\n",
    "time.sleep(10)\n",
    "del cv"
   ]
  },
  {
   "cell_type": "code",
   "execution_count": null,
   "id": "85712c98",
   "metadata": {
    "scrolled": true
   },
   "outputs": [],
   "source": [
    "import gc\n",
    "gc.collect()"
   ]
  }
 ],
 "metadata": {
  "kernelspec": {
   "display_name": "Python 3 (ipykernel)",
   "language": "python",
   "name": "python3"
  },
  "language_info": {
   "codemirror_mode": {
    "name": "ipython",
    "version": 3
   },
   "file_extension": ".py",
   "mimetype": "text/x-python",
   "name": "python",
   "nbconvert_exporter": "python",
   "pygments_lexer": "ipython3",
   "version": "3.9.16"
  }
 },
 "nbformat": 4,
 "nbformat_minor": 5
}

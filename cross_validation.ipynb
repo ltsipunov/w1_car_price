{
 "cells": [
  {
   "cell_type": "code",
   "execution_count": 1,
   "id": "849a89ad",
   "metadata": {
    "scrolled": false
   },
   "outputs": [],
   "source": [
    "from task import * \n",
    "# from utils import X,y,cat_cols,fillna,normalize,skew,encode"
   ]
  },
  {
   "cell_type": "code",
   "execution_count": 2,
   "id": "d3fb6eba",
   "metadata": {},
   "outputs": [],
   "source": [
    "import gc\n"
   ]
  },
  {
   "cell_type": "code",
   "execution_count": 3,
   "id": "fe7e4fea",
   "metadata": {},
   "outputs": [],
   "source": [
    "def data():\n",
    "    return ( pd.read_csv('datasets/train.csv') )\n",
    "\n",
    "def cross_valid_sets():\n",
    "    df0 = data()\n",
    "    df0,df2 = train_test_split(df0,test_size=.5)\n",
    "    df0,df1 = train_test_split(df0,test_size=.5)\n",
    "    df2,df3 = train_test_split(df2,test_size=.5)\n",
    "    return([df0,df1,df2,df3])\n"
   ]
  },
  {
   "cell_type": "markdown",
   "id": "1f35cb95",
   "metadata": {},
   "source": [
    "### Класс для кроссвалидации коррекций данных и гиперпараметров\n",
    "Из-за ограничений по объему памяти и времени выполнения  проверяем толькр наиболее интересные варианты "
   ]
  },
  {
   "cell_type": "code",
   "execution_count": 4,
   "id": "8bab62dd",
   "metadata": {},
   "outputs": [],
   "source": [
    "class CrossValidator(Task):\n",
    "\n",
    "    def __init__(self, dfs,params = {}):\n",
    "        super().__init__(dfs,params)\n",
    "        self.datasets = []\n",
    "        for i in [0,1,2,3]:\n",
    "            dx = shuffle(pd.concat( dfs[:i]+dfs[(i+1):] ,axis=0 )).copy()\n",
    "            self.datasets.append(ScoreSet( dx, dfs[i].copy(),params=self.params) ) \n",
    "\n",
    "\n",
    "    def process_fold(self,f):\n",
    "        self.log +=(f\"{f.log} \\n\")  \n",
    "        f.set_encoder( self.new_encoder() ).set_model(self.new_model() )\n",
    "        f.prepare().fit().predict()\n",
    "        self.log +=(f\"{f.log} \\n\")  \n",
    "        \n",
    "    def process(self):\n",
    "        for f in self.datasets: \n",
    "            self.process_fold(f) \n",
    "        self.score = self.mean_score()   \n",
    "        print(f\"MAPE mean: {self.score}\")    \n",
    "        return(self)\n",
    "    \n",
    "    def mean_score(self):\n",
    "        return sum( [ds.scores() for ds in self.datasets ])/len(self.datasets)\n",
    "    "
   ]
  },
  {
   "cell_type": "code",
   "execution_count": 5,
   "id": "85712c98",
   "metadata": {
    "scrolled": true
   },
   "outputs": [
    {
     "name": "stdout",
     "output_type": "stream",
     "text": [
      "MAPE mean: 0.3022824299217073\n"
     ]
    },
    {
     "data": {
      "text/plain": [
       "1326"
      ]
     },
     "execution_count": 5,
     "metadata": {},
     "output_type": "execute_result"
    }
   ],
   "source": [
    "params = { \n",
    "            'rounding': { 'odometer':3000,'condition':1},\n",
    "            'model': {  'criterion':'squared_error','n_estimators':20, 'max_depth':4 }    \n",
    "        }\n",
    "cv = CrossValidator( cross_valid_sets() ,params=params)\n",
    "cv.process()\n",
    "del cv\n",
    "gc.collect()"
   ]
  }
 ],
 "metadata": {
  "kernelspec": {
   "display_name": "Python 3 (ipykernel)",
   "language": "python",
   "name": "python3"
  },
  "language_info": {
   "codemirror_mode": {
    "name": "ipython",
    "version": 3
   },
   "file_extension": ".py",
   "mimetype": "text/x-python",
   "name": "python",
   "nbconvert_exporter": "python",
   "pygments_lexer": "ipython3",
   "version": "3.9.16"
  }
 },
 "nbformat": 4,
 "nbformat_minor": 5
}
